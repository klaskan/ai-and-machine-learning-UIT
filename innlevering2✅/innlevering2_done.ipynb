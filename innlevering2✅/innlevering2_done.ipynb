{
 "cells": [
  {
   "cell_type": "markdown",
   "metadata": {},
   "source": [
    "## [Du finner unittester i den siste cellen]\n",
    "\n",
    "TODO:\n",
    "- Fibonacci formelen ser slik ut: $F_n = F_{n-1} + F_{n-2}$\n",
    "- Look up: https://www.programiz.com/python-programming/iterator\n",
    "\n",
    "    "
   ]
  },
  {
   "cell_type": "raw",
   "metadata": {},
   "source": [
    "1: Lag en Iterator Class som kan skrive ut Fibonacci-tallene mellom 0 og 1000"
   ]
  },
  {
   "cell_type": "code",
   "execution_count": 3,
   "metadata": {},
   "outputs": [
    {
     "data": {
      "text/plain": [
       "[0, 1, 1, 2, 3, 5, 8, 13, 21, 34, 55, 89, 144, 233, 377, 610, 987]"
      ]
     },
     "execution_count": 3,
     "metadata": {},
     "output_type": "execute_result"
    }
   ],
   "source": [
    "#kode for Oppgave 1 her, bruk flere celler hvis det trengs\n",
    "class Fibonacci:\n",
    "    def __init__(self, max_num):\n",
    "        self._max_num = max_num\n",
    "    \n",
    "    def __iter__(self):                           \n",
    "        self.x = 0\n",
    "        self.y = 1\n",
    "        return self\n",
    "\n",
    "    def __next__(self):                           \n",
    "        fib = self.x\n",
    "        if fib > self._max_num:\n",
    "            raise StopIteration                   \n",
    "        self.x, self.y = self.y, self.x + self.y \n",
    "        return fib        \n",
    "\n",
    "f = Fibonacci(1000)\n",
    "[num for num in f]"
   ]
  },
  {
   "cell_type": "raw",
   "metadata": {},
   "source": [
    "[0, 1, 1, 2, 3, 5, 8, 13, 21, 34, 55, 89, 144, 233, 377, 610, 987] #forventet output for oppgave 1"
   ]
  },
  {
   "cell_type": "raw",
   "metadata": {},
   "source": [
    "2: Lag en Generator Function som skriver ut Fibonacci-tallene mellom 0 og 1000"
   ]
  },
  {
   "cell_type": "code",
   "execution_count": 5,
   "metadata": {},
   "outputs": [
    {
     "data": {
      "text/plain": [
       "[0, 1, 1, 2, 3, 5, 8, 13, 21, 34, 55, 89, 144, 233, 377, 610, 987]"
      ]
     },
     "execution_count": 5,
     "metadata": {},
     "output_type": "execute_result"
    }
   ],
   "source": [
    "#kode for Oppgave 2 her, bruk flere celler hvis det trengs\n",
    "def fibonacci_generator(max_num):\n",
    "    x, y = 0, 1\n",
    "    while x <= max_num:\n",
    "        yield x \n",
    "        x, y = y, x + y\n",
    "\n",
    "f2 = Fibonacci(1000)\n",
    "[num for num in f2]"
   ]
  },
  {
   "cell_type": "raw",
   "metadata": {},
   "source": [
    "[0, 1, 1, 2, 3, 5, 8, 13, 21, 34, 55, 89, 144, 233, 377, 610, 987] #forventet output for oppgave 2"
   ]
  },
  {
   "cell_type": "raw",
   "metadata": {},
   "source": [
    "3: Lag en Class NewInt som arver fra int. Den skal ha en Instance Method is_fibonacci() som returnerer True om tallet er et Fibonacci-tall, False hvis ikke. Generer en liste med NewInt fra 0 til 1000. Lag så en List Comprehension som kun beholder tallene som er Fibonacci ved hjelp av klassen og instansmetoden du lagde."
   ]
  },
  {
   "cell_type": "code",
   "execution_count": 6,
   "metadata": {},
   "outputs": [
    {
     "data": {
      "text/plain": [
       "[0, 1, 2, 3, 5, 8, 13, 21, 34, 55, 89, 144, 233, 377, 610, 987]"
      ]
     },
     "execution_count": 6,
     "metadata": {},
     "output_type": "execute_result"
    }
   ],
   "source": [
    "#kode for Oppgave 3 her, bruk flere celler hvis det trengs\n",
    "class NewInt(int):\n",
    "    \n",
    "    def __init__(self, num):\n",
    "        self.num = num\n",
    "    \n",
    "    def is_fibonacci(self):\n",
    "        for i in fibonacci_generator(self.num):\n",
    "            if self.num == i:\n",
    "                return True\n",
    "        return False\n",
    "\n",
    "list_NewInt = [NewInt(n) for n in range(1000)]    \n",
    "fib_set = [NewInt(n) for n in list_NewInt if NewInt(n).is_fibonacci()]\n",
    "fib_set"
   ]
  },
  {
   "cell_type": "raw",
   "metadata": {},
   "source": [
    "[0, 1, 2, 3, 5, 8, 13, 21, 34, 55, 89, 144, 233, 377, 610, 987] #forventet output for oppgave 3"
   ]
  },
  {
   "cell_type": "raw",
   "metadata": {},
   "source": [
    "4: Lag en liste int_list med NewInt fra 0 til 100 000. Lag deretter et set() fib_set med Fibonacci-tallene mellom 0 og 100 000 med fremgangsmåte du selv velger. Lag en List Comprehension som sjekker int_list mot fib_set. Sammenlign deretter performance mot klassen og metoden du lagde i oppgave 3 for å se hva som er raskest.  Tips: Sjekk performance med %%timeit i en notebook-celle."
   ]
  },
  {
   "cell_type": "code",
   "execution_count": 7,
   "metadata": {},
   "outputs": [
    {
     "data": {
      "text/plain": [
       "[0,\n",
       " 1,\n",
       " 2,\n",
       " 3,\n",
       " 5,\n",
       " 8,\n",
       " 13,\n",
       " 144,\n",
       " 75025,\n",
       " 21,\n",
       " 2584,\n",
       " 46368,\n",
       " 34,\n",
       " 17711,\n",
       " 55,\n",
       " 1597,\n",
       " 10946,\n",
       " 4181,\n",
       " 89,\n",
       " 987,\n",
       " 610,\n",
       " 233,\n",
       " 6765,\n",
       " 28657,\n",
       " 377]"
      ]
     },
     "execution_count": 7,
     "metadata": {},
     "output_type": "execute_result"
    }
   ],
   "source": [
    "#kode for Oppgave 4 her, bruk flere celler hvis det trengs\n",
    "#%timeit \n",
    "\n",
    "int_list = [NewInt(n) for n in range(100000)]\n",
    "fib_set = {NewInt(n) for n in int_list if NewInt(n).is_fibonacci()}\n",
    "\n",
    "\n",
    "#List Comprehension som sjekker int_list mot fib_set og finner like elementer\n",
    "[x for x in fib_set if x in int_list]\n"
   ]
  },
  {
   "cell_type": "code",
   "execution_count": 8,
   "metadata": {},
   "outputs": [
    {
     "name": "stdout",
     "output_type": "stream",
     "text": [
      "Metode fra oppgave 3\n",
      "100 loops, best of 5: 2.64 ms per loop\n",
      "Enkel List Comprehension\n",
      "100 loops, best of 5: 4.17 ms per loop\n"
     ]
    }
   ],
   "source": [
    "#Benchmark\n",
    "print(\"Metode fra oppgave 3\")\n",
    "%timeit [NewInt(n) for n in list_NewInt if NewInt(n).is_fibonacci()]\n",
    "print(\"Enkel List Comprehension\")\n",
    "%timeit [x for x in fib_set if x in int_list]"
   ]
  },
  {
   "cell_type": "raw",
   "metadata": {},
   "source": [
    "Vi ser at metoden fra oppgave 3 overlegent slår list Comprehension'en med nesten 1.5 ms.\n",
    "Dette demonstrerer hvor kraftige generatorer er."
   ]
  },
  {
   "cell_type": "code",
   "execution_count": 9,
   "metadata": {},
   "outputs": [
    {
     "name": "stderr",
     "output_type": "stream",
     "text": [
      "....\n",
      "----------------------------------------------------------------------\n",
      "Ran 4 tests in 0.005s\n",
      "\n",
      "OK\n"
     ]
    }
   ],
   "source": [
    "import unittest\n",
    "\n",
    "\n",
    "class test_fib(unittest.TestCase):\n",
    "    global fib_numbers\n",
    "    global not_fib_numbers\n",
    "    fib_numbers = [0, 1, 1, 2, 3, 5, 8, 13, 21, 34, 55, 89, 144, 233, 377, 610, 987]\n",
    "    not_fib_numbers = [4, 6, 12, 14, 22, 33, 56, 80, 100, 200, 360, 612, 981]\n",
    "    \n",
    "    def test_oppagve1(self):\n",
    "        list_fibonacci_numbers = [num for num in Fibonacci(1000)]\n",
    "        self.assertEqual(fib_numbers, list_fibonacci_numbers)\n",
    "    \n",
    "    def test_oppgave2(self):\n",
    "        list2_fibonacci_numbers = [num for num in fibonacci_generator(1000)]\n",
    "        self.assertEqual(fib_numbers, list2_fibonacci_numbers)\n",
    "    \n",
    "    def test_oppgave3(self):\n",
    "        for n in fib_numbers:\n",
    "            number = NewInt(n)\n",
    "            self.assertTrue(number.is_fibonacci())\n",
    "        \n",
    "        for n in not_fib_numbers:\n",
    "            number = NewInt(n)\n",
    "            self.assertFalse(number.is_fibonacci())\n",
    "    \n",
    "    \n",
    "    def test_oppgave4(self):\n",
    "        pass\n",
    "    \n",
    "if __name__ == '__main__':\n",
    "    unittest.main(argv=['first-arg-is-ignored'], exit=False)"
   ]
  },
  {
   "cell_type": "code",
   "execution_count": null,
   "metadata": {},
   "outputs": [],
   "source": []
  }
 ],
 "metadata": {
  "kernelspec": {
   "display_name": "Python 3",
   "language": "python",
   "name": "python3"
  },
  "language_info": {
   "codemirror_mode": {
    "name": "ipython",
    "version": 3
   },
   "file_extension": ".py",
   "mimetype": "text/x-python",
   "name": "python",
   "nbconvert_exporter": "python",
   "pygments_lexer": "ipython3",
   "version": "3.7.8"
  }
 },
 "nbformat": 4,
 "nbformat_minor": 4
}

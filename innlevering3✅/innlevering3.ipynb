{
 "cells": [
  {
   "cell_type": "raw",
   "metadata": {},
   "source": [
    "1: Filen \"Personer.dta\" skal leses inn i en list persons. Filen inneholder 100 000 rader med fiktive personalia på formatet \"etternavn;fornavn;adresse;postnummer;poststed\". Dette skal gjøres i native Python, dvs. Numpy/Pandas eller andre libs skal ikke brukes. Legg hver rad inn i en passende datastruktur, feks. tuple, dict, list eller namedtuple. Skriv så ut de 5 siste radene i en celle."
   ]
  },
  {
   "cell_type": "code",
   "execution_count": 1,
   "metadata": {},
   "outputs": [
    {
     "data": {
      "text/plain": [
       "[['STORLIEN', 'HANS-MAGNUS', 'TALLSLETTA 57', '3849', 'VRÅLIOSEN'],\n",
       " ['ASAIPPILLAI', 'JO GUDBRAND', 'BERGERUD 68', '4371', 'EGERSUND'],\n",
       " ['TOLLEFSEN', 'ZULFIQAR ALI', 'EIRIK JARLS GATE 79', '1305', 'HASLUM'],\n",
       " ['ELI', 'KNUT OLAF', 'RUSTAD S 14', '9775', 'GAMVIK'],\n",
       " ['NYRUD', 'ERIK NORØ', 'GJERDHAUGVEGEN 3', '6512', 'KRISTIANSUND ']]"
      ]
     },
     "execution_count": 1,
     "metadata": {},
     "output_type": "execute_result"
    }
   ],
   "source": [
    "#kode her\n",
    "\n",
    "data_list = []\n",
    "with open(\"Personer.dta\", \"r\", encoding='latin-1') as dta_file:\n",
    "    for line in dta_file:\n",
    "        splited = line.split(\";\")\n",
    "        splited[4] = splited[4][:-1]\n",
    "        data_list.append(splited)\n",
    "\n",
    "data_list[-5:]"
   ]
  },
  {
   "cell_type": "raw",
   "metadata": {},
   "source": [
    "2: Hvor mange unike postnummer finnes i \"Personer.dta\"?"
   ]
  },
  {
   "cell_type": "code",
   "execution_count": 2,
   "metadata": {},
   "outputs": [
    {
     "name": "stdout",
     "output_type": "stream",
     "text": [
      "Det finnes 2824 unike postnummer i datasettet\n"
     ]
    }
   ],
   "source": [
    "#kode her\n",
    "postnummer = [post_nummer[3] for post_nummer in data_list]\n",
    "postnummer_set = set(postnummer)\n",
    "unike_postnummer = len(postnummer_set)\n",
    "print(f\"Det finnes {unike_postnummer} unike postnummer i datasettet\")"
   ]
  },
  {
   "cell_type": "raw",
   "metadata": {},
   "source": [
    "3: Hva er de 10 vanligste etternavnene (som forekommer flest ganger) i \"Personer.dta\"?"
   ]
  },
  {
   "cell_type": "code",
   "execution_count": 3,
   "metadata": {},
   "outputs": [
    {
     "data": {
      "text/plain": [
       "[('ÅSBAKK', 83),\n",
       " ('BERGERSEN', 78),\n",
       " ('TRANE', 77),\n",
       " ('LUTHER', 77),\n",
       " ('LUNDBERGSEN', 77),\n",
       " ('DANIELSEN', 77),\n",
       " ('MJØEN', 76),\n",
       " ('LAM', 75),\n",
       " ('IGLAND', 75),\n",
       " ('KRANGSÅS', 75)]"
      ]
     },
     "execution_count": 3,
     "metadata": {},
     "output_type": "execute_result"
    }
   ],
   "source": [
    "#kode her\n",
    "names = [name[0] for name in data_list]\n",
    "names_set = set()\n",
    "for i in names:\n",
    "    names_set.add((i,names.count(i)))\n",
    "\n",
    "def sortSecond(val): \n",
    "    return val[1]  \n",
    "\n",
    "list_of_names = list(names_set)\n",
    "list_of_names.sort(key = sortSecond) \n",
    "big_to_small = list_of_names[::-1]\n",
    "big_to_small[:10]"
   ]
  },
  {
   "cell_type": "raw",
   "metadata": {},
   "source": [
    "4: Implementer sorteringsalgoritmen Heap Sort og sorter listen \"persons\" utfra rekkefølgen radene er lest inn i. Ferdig implementerte funksjoner som sorted skal ikke benyttes. Skriv så ut indexene [0,20000,40000,60000,80000] fra den sorterte listen."
   ]
  },
  {
   "cell_type": "code",
   "execution_count": 16,
   "metadata": {},
   "outputs": [],
   "source": [
    "#kode her\n",
    "#I oppgaven står det ikke noe om max eller min heap så jeg kommer til å bruke max heap.\n",
    "\n",
    "def validate_max_heap(list, heap_size, parent_index):\n",
    "    max_element_index = parent_index\n",
    "    left_child_index = parent_index * 2 + 1\n",
    "    right_child_index = parent_index * 2 + 2\n",
    "    \n",
    "    # Dersom foranding, child byttes ut med parant for deretter se om heap er orgainser\n",
    "    if left_child_index < heap_size and list[left_child_index] > list[max_element_index]:\n",
    "        max_element_index = left_child_index\n",
    "    if right_child_index < heap_size and list[right_child_index] > list[max_element_index]:\n",
    "        max_element_index = right_child_index\n",
    "    if max_element_index != parent_index:\n",
    "        list[max_element_index], list[parent_index] = list[parent_index], list[max_element_index]\n",
    "        # max_element_index ny forelder til subsettet \n",
    "        validate_max_heap(list, heap_size, max_element_index)\n",
    "\n",
    "\n",
    "def heap_sort(list_to_sort):\n",
    "    n = len(list_to_sort)\n",
    "\n",
    "    #Ser om heap er organisert hvor vi starter fra den siste forelderen\n",
    "    for i in range(n // 2 - 1, -1, -1): # i større eller lik 0 \n",
    "        validate_max_heap(list_to_sort, n, i)\n",
    "\n",
    "    # valideringen starter fra root \n",
    "    for i in range(n - 1, 0, -1):\n",
    "        list_to_sort[0], list_to_sort[i] = list_to_sort[i], list_to_sort[0]\n",
    "        n -= 1  \n",
    "        validate_max_heap(list_to_sort, n, 0)  \n",
    "    \n"
   ]
  },
  {
   "cell_type": "code",
   "execution_count": 17,
   "metadata": {},
   "outputs": [
    {
     "name": "stdout",
     "output_type": "stream",
     "text": [
      "index nr 0 is : ['AAKVIK', 'ANETTE', 'BAKLIEN 11', '1360', 'NESBRU']\n",
      "index nr 20000 is : ['ENGVOLL', 'TOM MIKAEL', 'KVAM ST 48', '1804', 'SPYDEBERG']\n",
      "index nr 40000 is : ['JERMOSEN', 'ÅGE RAYMOND', 'HATLEBAKKANE 6', '5236', 'RÅDAL']\n",
      "index nr 60000 is : ['MYRLUND', 'GAUTE', 'DYNESTØL 89', '7494', 'SINGSÅS']\n",
      "index nr 80000 is : ['SMITH', 'ARNT OLE', 'SAPPEN 39', '5852', 'BERGEN']\n"
     ]
    }
   ],
   "source": [
    "heap_sort(data_list)\n",
    "\n",
    "number = [0,20000,40000,60000,80000] \n",
    "\n",
    "for indx in number:\n",
    "    print(f\"index nr {indx} is : {data_list[indx]}\")\n"
   ]
  },
  {
   "cell_type": "code",
   "execution_count": null,
   "metadata": {},
   "outputs": [],
   "source": []
  },
  {
   "cell_type": "code",
   "execution_count": null,
   "metadata": {},
   "outputs": [],
   "source": []
  },
  {
   "cell_type": "code",
   "execution_count": null,
   "metadata": {},
   "outputs": [],
   "source": []
  }
 ],
 "metadata": {
  "kernelspec": {
   "display_name": "Python 3",
   "language": "python",
   "name": "python3"
  },
  "language_info": {
   "codemirror_mode": {
    "name": "ipython",
    "version": 3
   },
   "file_extension": ".py",
   "mimetype": "text/x-python",
   "name": "python",
   "nbconvert_exporter": "python",
   "pygments_lexer": "ipython3",
   "version": "3.7.8"
  }
 },
 "nbformat": 4,
 "nbformat_minor": 4
}

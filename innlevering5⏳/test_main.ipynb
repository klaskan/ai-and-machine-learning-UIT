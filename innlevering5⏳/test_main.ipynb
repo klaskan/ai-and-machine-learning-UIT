{
 "cells": [
  {
   "cell_type": "code",
   "execution_count": 1,
   "metadata": {},
   "outputs": [],
   "source": [
    "import pandas as pd\n",
    "import numpy as numpy\n",
    "from collections import namedtuple\n",
    "from BinaryTree import BinaryTree"
   ]
  },
  {
   "cell_type": "code",
   "execution_count": 20,
   "metadata": {},
   "outputs": [
    {
     "data": {
      "text/html": [
       "<div>\n",
       "<style scoped>\n",
       "    .dataframe tbody tr th:only-of-type {\n",
       "        vertical-align: middle;\n",
       "    }\n",
       "\n",
       "    .dataframe tbody tr th {\n",
       "        vertical-align: top;\n",
       "    }\n",
       "\n",
       "    .dataframe thead th {\n",
       "        text-align: right;\n",
       "    }\n",
       "</style>\n",
       "<table border=\"1\" class=\"dataframe\">\n",
       "  <thead>\n",
       "    <tr style=\"text-align: right;\">\n",
       "      <th></th>\n",
       "      <th>name</th>\n",
       "    </tr>\n",
       "  </thead>\n",
       "  <tbody>\n",
       "    <tr>\n",
       "      <th>99994</th>\n",
       "      <td>STORLIEN;HANS-MAGNUS;TALLSLETTA 57;3849;VR�LIOSEN</td>\n",
       "    </tr>\n",
       "    <tr>\n",
       "      <th>99995</th>\n",
       "      <td>ASAIPPILLAI;JO GUDBRAND;BERGERUD 68;4371;EGERSUND</td>\n",
       "    </tr>\n",
       "    <tr>\n",
       "      <th>99996</th>\n",
       "      <td>TOLLEFSEN;ZULFIQAR ALI;EIRIK JARLS GATE 79;130...</td>\n",
       "    </tr>\n",
       "    <tr>\n",
       "      <th>99997</th>\n",
       "      <td>ELI;KNUT OLAF;RUSTAD S 14;9775;GAMVIK</td>\n",
       "    </tr>\n",
       "    <tr>\n",
       "      <th>99998</th>\n",
       "      <td>NYRUD;ERIK NOR�;GJERDHAUGVEGEN 3;6512;KRISTIAN...</td>\n",
       "    </tr>\n",
       "  </tbody>\n",
       "</table>\n",
       "</div>"
      ],
      "text/plain": [
       "                                                    name\n",
       "99994  STORLIEN;HANS-MAGNUS;TALLSLETTA 57;3849;VR�LIOSEN\n",
       "99995  ASAIPPILLAI;JO GUDBRAND;BERGERUD 68;4371;EGERSUND\n",
       "99996  TOLLEFSEN;ZULFIQAR ALI;EIRIK JARLS GATE 79;130...\n",
       "99997              ELI;KNUT OLAF;RUSTAD S 14;9775;GAMVIK\n",
       "99998  NYRUD;ERIK NOR�;GJERDHAUGVEGEN 3;6512;KRISTIAN..."
      ]
     },
     "execution_count": 20,
     "metadata": {},
     "output_type": "execute_result"
    }
   ],
   "source": [
    "#A. Ved bruk av Pandas - les inn datafilen og legg dette i en collection av namedtuple\n",
    "#read_stat() is not working since it's an older .dta format, so had to find a workaround\n",
    "df = pd.read_fwf('Personer.dta', )\n",
    "df = df.applymap(str)\n",
    "df.columns = [\"name\"]\n",
    "df.tail()"
   ]
  },
  {
   "cell_type": "code",
   "execution_count": 3,
   "metadata": {},
   "outputs": [],
   "source": [
    "df[['First', 'Last', 'Address', 'Nr', 'City']] = df.name.str.split(';', expand=True)\n",
    "df = df.drop(columns=[\"name\"])"
   ]
  },
  {
   "cell_type": "code",
   "execution_count": 18,
   "metadata": {},
   "outputs": [
    {
     "data": {
      "text/html": [
       "<div>\n",
       "<style scoped>\n",
       "    .dataframe tbody tr th:only-of-type {\n",
       "        vertical-align: middle;\n",
       "    }\n",
       "\n",
       "    .dataframe tbody tr th {\n",
       "        vertical-align: top;\n",
       "    }\n",
       "\n",
       "    .dataframe thead th {\n",
       "        text-align: right;\n",
       "    }\n",
       "</style>\n",
       "<table border=\"1\" class=\"dataframe\">\n",
       "  <thead>\n",
       "    <tr style=\"text-align: right;\">\n",
       "      <th></th>\n",
       "      <th>First</th>\n",
       "      <th>Last</th>\n",
       "      <th>Address</th>\n",
       "      <th>Nr</th>\n",
       "      <th>City</th>\n",
       "    </tr>\n",
       "  </thead>\n",
       "  <tbody>\n",
       "    <tr>\n",
       "      <th>99994</th>\n",
       "      <td>STORLIEN</td>\n",
       "      <td>HANS-MAGNUS</td>\n",
       "      <td>TALLSLETTA 57</td>\n",
       "      <td>3849</td>\n",
       "      <td>VR�LIOSEN</td>\n",
       "    </tr>\n",
       "    <tr>\n",
       "      <th>99995</th>\n",
       "      <td>ASAIPPILLAI</td>\n",
       "      <td>JO GUDBRAND</td>\n",
       "      <td>BERGERUD 68</td>\n",
       "      <td>4371</td>\n",
       "      <td>EGERSUND</td>\n",
       "    </tr>\n",
       "    <tr>\n",
       "      <th>99996</th>\n",
       "      <td>TOLLEFSEN</td>\n",
       "      <td>ZULFIQAR ALI</td>\n",
       "      <td>EIRIK JARLS GATE 79</td>\n",
       "      <td>1305</td>\n",
       "      <td>HASLUM</td>\n",
       "    </tr>\n",
       "    <tr>\n",
       "      <th>99997</th>\n",
       "      <td>ELI</td>\n",
       "      <td>KNUT OLAF</td>\n",
       "      <td>RUSTAD S 14</td>\n",
       "      <td>9775</td>\n",
       "      <td>GAMVIK</td>\n",
       "    </tr>\n",
       "    <tr>\n",
       "      <th>99998</th>\n",
       "      <td>NYRUD</td>\n",
       "      <td>ERIK NOR�</td>\n",
       "      <td>GJERDHAUGVEGEN 3</td>\n",
       "      <td>6512</td>\n",
       "      <td>KRISTIANSUND N</td>\n",
       "    </tr>\n",
       "  </tbody>\n",
       "</table>\n",
       "</div>"
      ],
      "text/plain": [
       "             First          Last              Address    Nr            City\n",
       "99994     STORLIEN   HANS-MAGNUS        TALLSLETTA 57  3849       VR�LIOSEN\n",
       "99995  ASAIPPILLAI   JO GUDBRAND          BERGERUD 68  4371        EGERSUND\n",
       "99996    TOLLEFSEN  ZULFIQAR ALI  EIRIK JARLS GATE 79  1305          HASLUM\n",
       "99997          ELI     KNUT OLAF          RUSTAD S 14  9775          GAMVIK\n",
       "99998        NYRUD     ERIK NOR�     GJERDHAUGVEGEN 3  6512  KRISTIANSUND N"
      ]
     },
     "execution_count": 18,
     "metadata": {},
     "output_type": "execute_result"
    }
   ],
   "source": [
    "df.tail()"
   ]
  },
  {
   "cell_type": "code",
   "execution_count": 13,
   "metadata": {
    "tags": []
   },
   "outputs": [
    {
     "data": {
      "text/plain": [
       "Person(First='NYRUD', Last='ERIK NOR�', Address='GJERDHAUGVEGEN 3', Nr='6512', City='KRISTIANSUND N')"
      ]
     },
     "execution_count": 13,
     "metadata": {},
     "output_type": "execute_result"
    }
   ],
   "source": [
    "Personer = namedtuple('Personer', ['First', 'Last', 'Address', 'Nr', 'City'])\n",
    "list_df = list(df.itertuples(name='Person', index=False))\n",
    "list_df[99998]"
   ]
  },
  {
   "cell_type": "code",
   "execution_count": 10,
   "metadata": {},
   "outputs": [
    {
     "ename": "RecursionError",
     "evalue": "maximum recursion depth exceeded in comparison",
     "output_type": "error",
     "traceback": [
      "\u001b[0;31m---------------------------------------------------------------------------\u001b[0m",
      "\u001b[0;31mRecursionError\u001b[0m                            Traceback (most recent call last)",
      "\u001b[0;32m<ipython-input-10-eced07ba2a3a>\u001b[0m in \u001b[0;36m<module>\u001b[0;34m()\u001b[0m\n\u001b[1;32m      2\u001b[0m \u001b[0mbinaryTree\u001b[0m \u001b[0;34m=\u001b[0m \u001b[0mBinaryTree\u001b[0m\u001b[0;34m(\u001b[0m\u001b[0;34m)\u001b[0m\u001b[0;34m\u001b[0m\u001b[0;34m\u001b[0m\u001b[0m\n\u001b[1;32m      3\u001b[0m \u001b[0;32mfor\u001b[0m \u001b[0mdata\u001b[0m \u001b[0;32min\u001b[0m \u001b[0mlist_df\u001b[0m\u001b[0;34m:\u001b[0m\u001b[0;34m\u001b[0m\u001b[0;34m\u001b[0m\u001b[0m\n\u001b[0;32m----> 4\u001b[0;31m     \u001b[0mbinaryTree\u001b[0m\u001b[0;34m.\u001b[0m\u001b[0minsert\u001b[0m\u001b[0;34m(\u001b[0m\u001b[0mvalue\u001b[0m\u001b[0;34m=\u001b[0m\u001b[0mdata\u001b[0m\u001b[0;34m)\u001b[0m\u001b[0;34m\u001b[0m\u001b[0;34m\u001b[0m\u001b[0m\n\u001b[0m\u001b[1;32m      5\u001b[0m \u001b[0;34m\u001b[0m\u001b[0m\n",
      "\u001b[0;32m/Users/klaskan/Desktop/DTE-2602 maskinlæring/innleveringer/innlevering5/BinaryTree.py\u001b[0m in \u001b[0;36minsert\u001b[0;34m(self, current, treenode, value)\u001b[0m\n\u001b[1;32m     77\u001b[0m                     \u001b[0mcurrent\u001b[0m\u001b[0;34m.\u001b[0m\u001b[0mright\u001b[0m \u001b[0;34m=\u001b[0m \u001b[0mtreenode\u001b[0m\u001b[0;34m\u001b[0m\u001b[0;34m\u001b[0m\u001b[0m\n\u001b[1;32m     78\u001b[0m                 \u001b[0;32melse\u001b[0m\u001b[0;34m:\u001b[0m\u001b[0;34m\u001b[0m\u001b[0;34m\u001b[0m\u001b[0m\n\u001b[0;32m---> 79\u001b[0;31m                     \u001b[0mself\u001b[0m\u001b[0;34m.\u001b[0m\u001b[0minsert\u001b[0m\u001b[0;34m(\u001b[0m\u001b[0mcurrent\u001b[0m\u001b[0;34m.\u001b[0m\u001b[0mright\u001b[0m\u001b[0;34m,\u001b[0m \u001b[0mtreenode\u001b[0m\u001b[0;34m)\u001b[0m\u001b[0;34m\u001b[0m\u001b[0;34m\u001b[0m\u001b[0m\n\u001b[0m\u001b[1;32m     80\u001b[0m             \u001b[0;32melse\u001b[0m\u001b[0;34m:\u001b[0m\u001b[0;34m\u001b[0m\u001b[0;34m\u001b[0m\u001b[0m\n\u001b[1;32m     81\u001b[0m                 \u001b[0;32mif\u001b[0m \u001b[0mself\u001b[0m\u001b[0;34m.\u001b[0m\u001b[0m_root\u001b[0m \u001b[0;34m==\u001b[0m \u001b[0;32mNone\u001b[0m\u001b[0;34m:\u001b[0m\u001b[0;34m\u001b[0m\u001b[0;34m\u001b[0m\u001b[0m\n",
      "... last 1 frames repeated, from the frame below ...\n",
      "\u001b[0;32m/Users/klaskan/Desktop/DTE-2602 maskinlæring/innleveringer/innlevering5/BinaryTree.py\u001b[0m in \u001b[0;36minsert\u001b[0;34m(self, current, treenode, value)\u001b[0m\n\u001b[1;32m     77\u001b[0m                     \u001b[0mcurrent\u001b[0m\u001b[0;34m.\u001b[0m\u001b[0mright\u001b[0m \u001b[0;34m=\u001b[0m \u001b[0mtreenode\u001b[0m\u001b[0;34m\u001b[0m\u001b[0;34m\u001b[0m\u001b[0m\n\u001b[1;32m     78\u001b[0m                 \u001b[0;32melse\u001b[0m\u001b[0;34m:\u001b[0m\u001b[0;34m\u001b[0m\u001b[0;34m\u001b[0m\u001b[0m\n\u001b[0;32m---> 79\u001b[0;31m                     \u001b[0mself\u001b[0m\u001b[0;34m.\u001b[0m\u001b[0minsert\u001b[0m\u001b[0;34m(\u001b[0m\u001b[0mcurrent\u001b[0m\u001b[0;34m.\u001b[0m\u001b[0mright\u001b[0m\u001b[0;34m,\u001b[0m \u001b[0mtreenode\u001b[0m\u001b[0;34m)\u001b[0m\u001b[0;34m\u001b[0m\u001b[0;34m\u001b[0m\u001b[0m\n\u001b[0m\u001b[1;32m     80\u001b[0m             \u001b[0;32melse\u001b[0m\u001b[0;34m:\u001b[0m\u001b[0;34m\u001b[0m\u001b[0;34m\u001b[0m\u001b[0m\n\u001b[1;32m     81\u001b[0m                 \u001b[0;32mif\u001b[0m \u001b[0mself\u001b[0m\u001b[0;34m.\u001b[0m\u001b[0m_root\u001b[0m \u001b[0;34m==\u001b[0m \u001b[0;32mNone\u001b[0m\u001b[0;34m:\u001b[0m\u001b[0;34m\u001b[0m\u001b[0;34m\u001b[0m\u001b[0m\n",
      "\u001b[0;31mRecursionError\u001b[0m: maximum recursion depth exceeded in comparison"
     ]
    }
   ],
   "source": [
    "#B. Insert dataene (namedtuples) som du hentet i det binære søketreet\n",
    "binaryTree = BinaryTree()\n",
    "for data in list_df:\n",
    "    binaryTree.insert(value=data)\n",
    "    "
   ]
  },
  {
   "cell_type": "code",
   "execution_count": null,
   "metadata": {
    "tags": []
   },
   "outputs": [],
   "source": [
    "#C. Hver node i treet har en egen \"level\" knyttet til seg - altså nivå i treet. \n",
    "# Skriv ut nivået og verdien for rad nr 1, 10, 100, 1000, 10000, 100000 fra filen Personer.dta. \n",
    "#Legg til side denne listen av namedtuples og nivået i treet\n",
    "values_to_find = [1, 10, 100, 1000, 10000, 100000]\n",
    "for i in values_to_find:\n",
    "    print(f\"Value: {binaryTree.find(list_df[i]).value}\")\n",
    "    print(f\"Level: {binaryTree.find(list_df[i]).level}\")\n",
    "    print(\"----------------------------------------------------------------------------------------------\")\n",
    "\n",
    "\n"
   ]
  },
  {
   "cell_type": "code",
   "execution_count": null,
   "metadata": {},
   "outputs": [],
   "source": [
    "#Slett rad nr. 1000 og 10000 fra Personer.dta i det binære søketreet, \n",
    "#og kontroller implementasjonen din mot resultatet fra oppgave 1C\n",
    "p_test1 = list_df[10]\n",
    "p_test2 = list_df[88888]\n",
    "\n",
    "p1 = list_df[1000]\n",
    "p2 = list_df[10000]\n",
    "values_to_delete = [p1, p2]\n",
    " \n",
    "for i in values_to_delete:\n",
    "    binaryTree.deleteRecursive(key=i)\n",
    "\n",
    "try:\n",
    "    print(binaryTree.find(p_test1).value)\n",
    "except:\n",
    "    print(\"False\")\n",
    "\n",
    "\n",
    "\n",
    "try:\n",
    "    print(binaryTree.find(p_test2).value)\n",
    "except:\n",
    "    print(\"False\")\n",
    "    \n",
    "\n",
    "try:\n",
    "    print(binaryTree.find(p1).value)\n",
    "except:\n",
    "    print(\"False\")    \n",
    "\n",
    "\n",
    "try:\n",
    "    print(binaryTree.find(p2).value)\n",
    "except:\n",
    "    print(\"False\")\n"
   ]
  },
  {
   "cell_type": "code",
   "execution_count": null,
   "metadata": {},
   "outputs": [],
   "source": [
    "#Basert på dine endringer i BinaryTree.py, en utskrift av nivået for  \n",
    "#følgende rader i Personer.dta: 8, 50, 400, 2300, 8000, 49999, 75000\n",
    "#Hvor mange noder befinner seg på hvert nivå/level i treet?\n",
    "\n",
    "print_vaules = [8, 50, 400, 2300, 8000, 49999, 75000]\n",
    "\n",
    "for num in print_vaules:\n",
    "    \n",
    "    \n",
    "    \n",
    "    \n",
    "    \n",
    "    "
   ]
  }
 ],
 "metadata": {
  "kernelspec": {
   "display_name": "Python 3",
   "language": "python",
   "name": "python3"
  },
  "language_info": {
   "codemirror_mode": {
    "name": "ipython",
    "version": 3
   },
   "file_extension": ".py",
   "mimetype": "text/x-python",
   "name": "python",
   "nbconvert_exporter": "python",
   "pygments_lexer": "ipython3",
   "version": "3.7.8"
  }
 },
 "nbformat": 4,
 "nbformat_minor": 4
}
